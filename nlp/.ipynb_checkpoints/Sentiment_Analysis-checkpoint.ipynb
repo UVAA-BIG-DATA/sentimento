{
 "cells": [
  {
   "cell_type": "code",
   "execution_count": 2,
   "metadata": {},
   "outputs": [
    {
     "name": "stdout",
     "output_type": "stream",
     "text": [
      "Collecting textblob\n",
      "\u001b[?25l  Downloading https://files.pythonhosted.org/packages/11/18/7f55c8be6d68ddc4036ffda5382ca51e23a1075987f708b9123712091af1/textblob-0.15.1-py2.py3-none-any.whl (631kB)\n",
      "\u001b[K    100% |████████████████████████████████| 634kB 3.6MB/s ta 0:00:01\n",
      "\u001b[?25hCollecting nltk>=3.1 (from textblob)\n",
      "\u001b[?25l  Downloading https://files.pythonhosted.org/packages/50/09/3b1755d528ad9156ee7243d52aa5cd2b809ef053a0f31b53d92853dd653a/nltk-3.3.0.zip (1.4MB)\n",
      "\u001b[K    100% |████████████████████████████████| 1.4MB 5.3MB/s eta 0:00:01\n",
      "\u001b[?25hRequirement already satisfied, skipping upgrade: six in ./venv/lib/python3.4/site-packages (from nltk>=3.1->textblob) (1.11.0)\n",
      "Building wheels for collected packages: nltk\n",
      "  Running setup.py bdist_wheel for nltk ... \u001b[?25ldone\n",
      "\u001b[?25h  Stored in directory: /Users/AaronZhao/Library/Caches/pip/wheels/d1/ab/40/3bceea46922767e42986aef7606a600538ca80de6062dc266c\n",
      "Successfully built nltk\n",
      "Installing collected packages: nltk, textblob\n",
      "Successfully installed nltk-3.3 textblob-0.15.1\n",
      "Collecting validators\n",
      "  Downloading https://files.pythonhosted.org/packages/45/7b/5b7b74208a3e0744d1a0efbfb1935fa46fa4cfe58d3d63f17c49c58c429c/validators-0.12.2.tar.gz\n",
      "Requirement already satisfied: six>=1.4.0 in ./venv/lib/python3.4/site-packages (from validators) (1.11.0)\n",
      "Requirement already satisfied: decorator>=3.4.0 in ./venv/lib/python3.4/site-packages (from validators) (4.3.0)\n",
      "Building wheels for collected packages: validators\n",
      "  Running setup.py bdist_wheel for validators ... \u001b[?25ldone\n",
      "\u001b[?25h  Stored in directory: /Users/AaronZhao/Library/Caches/pip/wheels/08/22/b2/3262653b390c2a4bf7e8b87e6b7aa2f77fee41e3ee50b83712\n",
      "Successfully built validators\n",
      "Installing collected packages: validators\n",
      "Successfully installed validators-0.12.2\n"
     ]
    }
   ],
   "source": [
    "#Dependencies\n",
    "!pip install -U textblob\n",
    "!pip install validators"
   ]
  },
  {
   "cell_type": "code",
   "execution_count": 31,
   "metadata": {
    "collapsed": true
   },
   "outputs": [],
   "source": [
    "#Import statements\n",
    "from textblob import TextBlob\n",
    "import pandas as pd\n",
    "import json\n",
    "import re\n",
    "import requests\n",
    "import numpy as np\n",
    "import validators"
   ]
  },
  {
   "cell_type": "code",
   "execution_count": 32,
   "metadata": {
    "collapsed": true
   },
   "outputs": [],
   "source": [
    "#Reading the json\n",
    "with open('cleansedData.txt') as file:\n",
    "    data = []\n",
    "    for line in file:\n",
    "        data.append(json.loads(line))"
   ]
  },
  {
   "cell_type": "code",
   "execution_count": 33,
   "metadata": {
    "collapsed": true
   },
   "outputs": [],
   "source": [
    "#Sentiment usig Textblob\n",
    "df = pd.DataFrame(data)\n",
    "df1 = df.copy()"
   ]
  },
  {
   "cell_type": "code",
   "execution_count": 34,
   "metadata": {
    "collapsed": true
   },
   "outputs": [],
   "source": [
    "sentiment = []\n",
    "for i in df.text:\n",
    "    blob = TextBlob(i)\n",
    "    sentiment.append(blob.sentiment.polarity)\n",
    "df1['sentiment'] = pd.Series(sentiment)"
   ]
  },
  {
   "cell_type": "code",
   "execution_count": 35,
   "metadata": {
    "collapsed": true
   },
   "outputs": [],
   "source": [
    "def urls(s):\n",
    "    url =  re.findall(r'(https?://\\S+)', s)\n",
    "    return url"
   ]
  },
  {
   "cell_type": "code",
   "execution_count": 36,
   "metadata": {
    "collapsed": true
   },
   "outputs": [],
   "source": [
    "def element(list1):\n",
    "    if len(list1)>0:\n",
    "        return list1[0]\n",
    "    else:\n",
    "        pass"
   ]
  },
  {
   "cell_type": "code",
   "execution_count": 37,
   "metadata": {
    "collapsed": true
   },
   "outputs": [],
   "source": [
    "Techlist=[\"Facebook\",\"Microsoft\",\"Google\",\"Amazon\",\"Netflix\",\"Snapchat\"]\n",
    "pat = '|'.join(r\"\\b{}\\b\".format(x) for x in Techlist)\n",
    "df1['company'] = df1.text.str.findall(pat, flags=re.IGNORECASE).apply(lambda x: list(set(x)))\n",
    "df1.company = df1.company.apply(element)\n",
    "# df1[\"urls\"] = df1.text.apply(urls).apply(element)"
   ]
  },
  {
   "cell_type": "code",
   "execution_count": 39,
   "metadata": {
    "collapsed": true
   },
   "outputs": [],
   "source": [
    "df1new = df1.loc[~df1.company.isnull()]"
   ]
  },
  {
   "cell_type": "code",
   "execution_count": null,
   "metadata": {
    "collapsed": true
   },
   "outputs": [],
   "source": [
    "df1new.to_json(\"cleanedDatawithsentiment\", orient=\"records\")"
   ]
  },
  {
   "cell_type": "code",
   "execution_count": 38,
   "metadata": {
    "collapsed": true
   },
   "outputs": [],
   "source": [
    "# def org_url(address):\n",
    "#     if validators.url(address):\n",
    "#         try:\n",
    "#             r = requests.get(address, allow_redirects=True)\n",
    "#             print r.url\n",
    "#             return r.url\n",
    "#         except:\n",
    "#             pass"
   ]
  },
  {
   "cell_type": "code",
   "execution_count": 40,
   "metadata": {
    "collapsed": true
   },
   "outputs": [],
   "source": [
    "# Techlist1=[\"Facebook\",\"facebook\",\"Microsoft\",\"microsoft\",\"Google\",\"google\",\"Amazon\",\"amazon\",\"Netflix\",\"netflix\",\"Snapchat\",\"snapchat\"]"
   ]
  },
  {
   "cell_type": "code",
   "execution_count": 41,
   "metadata": {
    "collapsed": true
   },
   "outputs": [],
   "source": [
    "# nozero_url = df1.urls[df1.urls.notnull()]\n",
    "# wanted_rows = nozero_url.loc[~df1['company'].isin(Techlist1)]"
   ]
  },
  {
   "cell_type": "code",
   "execution_count": 42,
   "metadata": {
    "collapsed": true
   },
   "outputs": [],
   "source": [
    "# temp1= wanted_rows.apply(org_url)"
   ]
  },
  {
   "cell_type": "code",
   "execution_count": 43,
   "metadata": {
    "collapsed": true
   },
   "outputs": [],
   "source": [
    "# org=[]\n",
    "# for i in range(len(df1.urls)):\n",
    "#     if validators.url(str(df1.urls.iloc[i]).encode('utf-8')):\n",
    "#         print df1.urls.iloc[i]\n",
    "#         resp = requests.head(i,allow_redirects = True)\n",
    "#         print resp.url\n",
    "#         org.append(resp.url)\n",
    "#     else:\n",
    "#         pass"
   ]
  },
  {
   "cell_type": "code",
   "execution_count": 44,
   "metadata": {
    "collapsed": true
   },
   "outputs": [],
   "source": [
    "# df1.urls[df1.urls.notnull()].value_counts()"
   ]
  },
  {
   "cell_type": "code",
   "execution_count": null,
   "metadata": {
    "collapsed": true
   },
   "outputs": [],
   "source": [
    "# df1.text[df1.text.str.contains(\"Facebook|Microsoft|Google|Amazon|Netflix|Snapchat\",case = False, regex = \"false\")].value_counts()"
   ]
  },
  {
   "cell_type": "code",
   "execution_count": null,
   "metadata": {
    "collapsed": true
   },
   "outputs": [],
   "source": [
    "# #Statistics \n",
    "# print df1.text.str.contains('facebook|Facebook',case= True, regex = True).value_counts()\n",
    "# print df1.text.str.contains('microsoft|Microsoft',case= True, regex = True).value_counts()\n",
    "# print df1.text.str.contains('google|Google',case= True, regex = True).value_counts()\n",
    "# print df1.text.str.contains('Apple|apple',case= True, regex = True).value_counts()\n",
    "# print df1.text.str.contains('Amazon|amazon',case= True, regex = True).value_counts()\n",
    "# print df1.text.str.contains('facebook|Facebook|microsoft|Microsoft|google|Google|Netflix|netflix|Amazon|amazon|Snapchat|snapchat',case= True, regex = True).value_counts()"
   ]
  }
 ],
 "metadata": {
  "kernelspec": {
   "display_name": "Python 3",
   "language": "python",
   "name": "python3"
  },
  "language_info": {
   "codemirror_mode": {
    "name": "ipython",
    "version": 3
   },
   "file_extension": ".py",
   "mimetype": "text/x-python",
   "name": "python",
   "nbconvert_exporter": "python",
   "pygments_lexer": "ipython3",
   "version": "3.4.8"
  }
 },
 "nbformat": 4,
 "nbformat_minor": 2
}
