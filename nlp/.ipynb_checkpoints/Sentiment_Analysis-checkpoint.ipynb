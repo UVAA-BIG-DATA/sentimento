{
 "cells": [
  {
   "cell_type": "code",
   "execution_count": 2,
   "metadata": {},
   "outputs": [
    {
     "name": "stdout",
     "output_type": "stream",
     "text": [
      "Requirement already up-to-date: textblob in ./venv/lib/python3.4/site-packages (0.15.1)\n",
      "Requirement already satisfied, skipping upgrade: nltk>=3.1 in ./venv/lib/python3.4/site-packages (from textblob) (3.3)\n",
      "Requirement already satisfied, skipping upgrade: six in ./venv/lib/python3.4/site-packages (from nltk>=3.1->textblob) (1.11.0)\n",
      "Requirement already satisfied: validators in ./venv/lib/python3.4/site-packages (0.12.2)\n",
      "Requirement already satisfied: decorator>=3.4.0 in ./venv/lib/python3.4/site-packages (from validators) (4.3.0)\n",
      "Requirement already satisfied: six>=1.4.0 in ./venv/lib/python3.4/site-packages (from validators) (1.11.0)\n",
      "Collecting requests\n",
      "\u001b[?25l  Downloading https://files.pythonhosted.org/packages/ff/17/5cbb026005115301a8fb2f9b0e3e8d32313142fe8b617070e7baad20554f/requests-2.20.1-py2.py3-none-any.whl (57kB)\n",
      "\u001b[K    100% |████████████████████████████████| 61kB 1.9MB/s ta 0:00:011\n",
      "\u001b[?25hCollecting idna<2.8,>=2.5 (from requests)\n",
      "  Using cached https://files.pythonhosted.org/packages/4b/2a/0276479a4b3caeb8a8c1af2f8e4355746a97fab05a372e4a2c6a6b876165/idna-2.7-py2.py3-none-any.whl\n",
      "Collecting certifi>=2017.4.17 (from requests)\n",
      "  Using cached https://files.pythonhosted.org/packages/56/9d/1d02dd80bc4cd955f98980f28c5ee2200e1209292d5f9e9cc8d030d18655/certifi-2018.10.15-py2.py3-none-any.whl\n",
      "Collecting chardet<3.1.0,>=3.0.2 (from requests)\n",
      "  Using cached https://files.pythonhosted.org/packages/bc/a9/01ffebfb562e4274b6487b4bb1ddec7ca55ec7510b22e4c51f14098443b8/chardet-3.0.4-py2.py3-none-any.whl\n",
      "Collecting urllib3<1.25,>=1.21.1 (from requests)\n",
      "  Using cached https://files.pythonhosted.org/packages/62/00/ee1d7de624db8ba7090d1226aebefab96a2c71cd5cfa7629d6ad3f61b79e/urllib3-1.24.1-py2.py3-none-any.whl\n",
      "Installing collected packages: idna, certifi, chardet, urllib3, requests\n",
      "Successfully installed certifi-2018.10.15 chardet-3.0.4 idna-2.7 requests-2.20.1 urllib3-1.24.1\n"
     ]
    }
   ],
   "source": [
    "#Dependencies\n",
    "!pip install -U textblob\n",
    "!pip install validators\n",
    "!pip install requests"
   ]
  },
  {
   "cell_type": "code",
   "execution_count": 3,
   "metadata": {},
   "outputs": [],
   "source": [
    "#Import statements\n",
    "from textblob import TextBlob\n",
    "import pandas as pd\n",
    "import json\n",
    "import re\n",
    "import requests\n",
    "import numpy as np\n",
    "import validators"
   ]
  },
  {
   "cell_type": "code",
   "execution_count": 5,
   "metadata": {},
   "outputs": [],
   "source": [
    "#Reading the json\n",
    "with open('../ingest/twitter/__data__/cleansedData.txt') as file:\n",
    "    data = []\n",
    "    for line in file:\n",
    "        data.append(json.loads(line))"
   ]
  },
  {
   "cell_type": "code",
   "execution_count": 33,
   "metadata": {
    "collapsed": true
   },
   "outputs": [],
   "source": [
    "#Sentiment usig Textblob\n",
    "df = pd.DataFrame(data)\n",
    "df1 = df.copy()"
   ]
  },
  {
   "cell_type": "code",
   "execution_count": 34,
   "metadata": {
    "collapsed": true
   },
   "outputs": [],
   "source": [
    "sentiment = []\n",
    "for i in df.text:\n",
    "    blob = TextBlob(i)\n",
    "    sentiment.append(blob.sentiment.polarity)\n",
    "df1['sentiment'] = pd.Series(sentiment)"
   ]
  },
  {
   "cell_type": "code",
   "execution_count": 35,
   "metadata": {
    "collapsed": true
   },
   "outputs": [],
   "source": [
    "def urls(s):\n",
    "    url =  re.findall(r'(https?://\\S+)', s)\n",
    "    return url"
   ]
  },
  {
   "cell_type": "code",
   "execution_count": 36,
   "metadata": {
    "collapsed": true
   },
   "outputs": [],
   "source": [
    "def element(list1):\n",
    "    if len(list1)>0:\n",
    "        return list1[0]\n",
    "    else:\n",
    "        pass"
   ]
  },
  {
   "cell_type": "code",
   "execution_count": 37,
   "metadata": {
    "collapsed": true
   },
   "outputs": [],
   "source": [
    "Techlist=[\"Facebook\",\"Microsoft\",\"Google\",\"Amazon\",\"Netflix\",\"Snapchat\"]\n",
    "pat = '|'.join(r\"\\b{}\\b\".format(x) for x in Techlist)\n",
    "df1['company'] = df1.text.str.findall(pat, flags=re.IGNORECASE).apply(lambda x: list(set(x)))\n",
    "df1.company = df1.company.apply(element)\n",
    "# df1[\"urls\"] = df1.text.apply(urls).apply(element)"
   ]
  },
  {
   "cell_type": "code",
   "execution_count": 39,
   "metadata": {
    "collapsed": true
   },
   "outputs": [],
   "source": [
    "df1new = df1.loc[~df1.company.isnull()]\n",
    "df1new['company'] = map(lambda x: x.upper(), df1new['company'])\n",
    "df1new.to_json(\"cleanedDatawithsentiment\", orient=\"records\")"
   ]
  },
  {
   "cell_type": "code",
   "execution_count": 42,
   "metadata": {
    "collapsed": true
   },
   "outputs": [],
   "source": [
    "file_sentiment = open(\"__data__/tweet_sentiment.txt\", \"a\")\n",
    "for row in df1new.to_dict(orient='records'):\n",
    "    val = json.dumps(row)\n",
    "    file_sentiment.write(val + '\\n')"
   ]
  },
  {
   "cell_type": "code",
   "execution_count": null,
   "metadata": {
    "collapsed": true
   },
   "outputs": [],
   "source": [
    "# #Statistics \n",
    "# print df1.text.str.contains('facebook|Facebook',case= True, regex = True).value_counts()\n",
    "# print df1.text.str.contains('microsoft|Microsoft',case= True, regex = True).value_counts()\n",
    "# print df1.text.str.contains('google|Google',case= True, regex = True).value_counts()\n",
    "# print df1.text.str.contains('Apple|apple',case= True, regex = True).value_counts()\n",
    "# print df1.text.str.contains('Amazon|amazon',case= True, regex = True).value_counts()\n",
    "# print df1.text.str.contains('facebook|Facebook|microsoft|Microsoft|google|Google|Netflix|netflix|Amazon|amazon|Snapchat|snapchat',case= True, regex = True).value_counts()"
   ]
  }
 ],
 "metadata": {
  "kernelspec": {
   "display_name": "Python 3",
   "language": "python",
   "name": "python3"
  },
  "language_info": {
   "codemirror_mode": {
    "name": "ipython",
    "version": 3
   },
   "file_extension": ".py",
   "mimetype": "text/x-python",
   "name": "python",
   "nbconvert_exporter": "python",
   "pygments_lexer": "ipython3",
   "version": "3.4.8"
  }
 },
 "nbformat": 4,
 "nbformat_minor": 2
}
