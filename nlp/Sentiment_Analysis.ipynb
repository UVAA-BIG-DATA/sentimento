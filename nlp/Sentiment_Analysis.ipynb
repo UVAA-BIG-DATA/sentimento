{
 "cells": [
  {
   "cell_type": "code",
   "execution_count": 30,
   "metadata": {
    "collapsed": true
   },
   "outputs": [],
   "source": [
    "# #Dependencies\n",
    "# #!pip install -U git+https://github.com/sloria/TextBlob.git@dev\n",
    "# #!pip install validators\n",
    "# from textblob import TextBlob\n",
    "# #Sample work of textblob\n",
    "\n",
    "# feedback1 = \"The food at radison was awesome\"\n",
    "# feedback2 = \"The food at radison was very good\"\n",
    "# feedback3 = \"The food at radison was super good\"\n",
    "# blob1 = TextBlob(feedback1)\n",
    "# blob2 = TextBlob(feedback2)\n",
    "# blob3 = TextBlob(feedback3)\n",
    "# print blob1.sentiment\n",
    "# print blob2.sentiment\n",
    "# print blob3.sentiment"
   ]
  },
  {
   "cell_type": "code",
   "execution_count": null,
   "metadata": {
    "collapsed": true
   },
   "outputs": [],
   "source": [
    "Dependencies\n",
    "!pip install -U git+https://github.com/sloria/TextBlob.git@dev\n",
    "!pip install validators"
   ]
  },
  {
   "cell_type": "code",
   "execution_count": 31,
   "metadata": {
    "collapsed": true
   },
   "outputs": [],
   "source": [
    "#Import statements\n",
    "from textblob import TextBlob\n",
    "import pandas as pd\n",
    "import json\n",
    "import re\n",
    "import requests\n",
    "import numpy as np\n",
    "import validators"
   ]
  },
  {
   "cell_type": "code",
   "execution_count": 32,
   "metadata": {
    "collapsed": true
   },
   "outputs": [],
   "source": [
    "#Reading the json\n",
    "with open('cleansedData.txt') as file:\n",
    "    data = []\n",
    "    for line in file:\n",
    "        data.append(json.loads(line))"
   ]
  },
  {
   "cell_type": "code",
   "execution_count": 33,
   "metadata": {
    "collapsed": true
   },
   "outputs": [],
   "source": [
    "#Sentiment usig Textblob\n",
    "df = pd.DataFrame(data)\n",
    "df1 = df.copy()"
   ]
  },
  {
   "cell_type": "code",
   "execution_count": 34,
   "metadata": {
    "collapsed": true
   },
   "outputs": [],
   "source": [
    "sentiment = []\n",
    "for i in df.text:\n",
    "    blob = TextBlob(i)\n",
    "    sentiment.append(blob.sentiment.polarity)\n",
    "df1['sentiment'] = pd.Series(sentiment)"
   ]
  },
  {
   "cell_type": "code",
   "execution_count": 35,
   "metadata": {
    "collapsed": true
   },
   "outputs": [],
   "source": [
    "def urls(s):\n",
    "    url =  re.findall(r'(https?://\\S+)', s)\n",
    "    return url"
   ]
  },
  {
   "cell_type": "code",
   "execution_count": 36,
   "metadata": {
    "collapsed": true
   },
   "outputs": [],
   "source": [
    "def element(list1):\n",
    "    if len(list1)>0:\n",
    "        return list1[0]\n",
    "    else:\n",
    "        pass"
   ]
  },
  {
   "cell_type": "code",
   "execution_count": 37,
   "metadata": {
    "collapsed": true
   },
   "outputs": [],
   "source": [
    "Techlist=[\"Facebook\",\"Microsoft\",\"Google\",\"Amazon\",\"Netflix\",\"Snapchat\"]\n",
    "pat = '|'.join(r\"\\b{}\\b\".format(x) for x in Techlist)\n",
    "df1['company'] = df1.text.str.findall(pat, flags=re.IGNORECASE).apply(lambda x: list(set(x)))\n",
    "df1.company = df1.company.apply(element)\n",
    "# df1[\"urls\"] = df1.text.apply(urls).apply(element)"
   ]
  },
  {
   "cell_type": "code",
   "execution_count": 39,
   "metadata": {
    "collapsed": true
   },
   "outputs": [],
   "source": [
    "df1new = df1.loc[~df1.company.isnull()]"
   ]
  },
  {
   "cell_type": "code",
   "execution_count": null,
   "metadata": {
    "collapsed": true
   },
   "outputs": [],
   "source": [
    "df1new.to_json(\"cleanedDatawithsentiment\", orient=\"records\")"
   ]
  },
  {
   "cell_type": "code",
   "execution_count": 38,
   "metadata": {
    "collapsed": true
   },
   "outputs": [],
   "source": [
    "# def org_url(address):\n",
    "#     if validators.url(address):\n",
    "#         try:\n",
    "#             r = requests.get(address, allow_redirects=True)\n",
    "#             print r.url\n",
    "#             return r.url\n",
    "#         except:\n",
    "#             pass"
   ]
  },
  {
   "cell_type": "code",
   "execution_count": 40,
   "metadata": {
    "collapsed": true
   },
   "outputs": [],
   "source": [
    "# Techlist1=[\"Facebook\",\"facebook\",\"Microsoft\",\"microsoft\",\"Google\",\"google\",\"Amazon\",\"amazon\",\"Netflix\",\"netflix\",\"Snapchat\",\"snapchat\"]"
   ]
  },
  {
   "cell_type": "code",
   "execution_count": 41,
   "metadata": {
    "collapsed": true
   },
   "outputs": [],
   "source": [
    "# nozero_url = df1.urls[df1.urls.notnull()]\n",
    "# wanted_rows = nozero_url.loc[~df1['company'].isin(Techlist1)]"
   ]
  },
  {
   "cell_type": "code",
   "execution_count": 42,
   "metadata": {
    "collapsed": true
   },
   "outputs": [],
   "source": [
    "# temp1= wanted_rows.apply(org_url)"
   ]
  },
  {
   "cell_type": "code",
   "execution_count": 43,
   "metadata": {
    "collapsed": true
   },
   "outputs": [],
   "source": [
    "# org=[]\n",
    "# for i in range(len(df1.urls)):\n",
    "#     if validators.url(str(df1.urls.iloc[i]).encode('utf-8')):\n",
    "#         print df1.urls.iloc[i]\n",
    "#         resp = requests.head(i,allow_redirects = True)\n",
    "#         print resp.url\n",
    "#         org.append(resp.url)\n",
    "#     else:\n",
    "#         pass"
   ]
  },
  {
   "cell_type": "code",
   "execution_count": 44,
   "metadata": {
    "collapsed": true
   },
   "outputs": [],
   "source": [
    "# df1.urls[df1.urls.notnull()].value_counts()"
   ]
  },
  {
   "cell_type": "code",
   "execution_count": null,
   "metadata": {
    "collapsed": true
   },
   "outputs": [],
   "source": [
    "# df1.text[df1.text.str.contains(\"Facebook|Microsoft|Google|Amazon|Netflix|Snapchat\",case = False, regex = \"false\")].value_counts()"
   ]
  },
  {
   "cell_type": "code",
   "execution_count": null,
   "metadata": {
    "collapsed": true
   },
   "outputs": [],
   "source": [
    "# #Statistics \n",
    "# print df1.text.str.contains('facebook|Facebook',case= True, regex = True).value_counts()\n",
    "# print df1.text.str.contains('microsoft|Microsoft',case= True, regex = True).value_counts()\n",
    "# print df1.text.str.contains('google|Google',case= True, regex = True).value_counts()\n",
    "# print df1.text.str.contains('Apple|apple',case= True, regex = True).value_counts()\n",
    "# print df1.text.str.contains('Amazon|amazon',case= True, regex = True).value_counts()\n",
    "# print df1.text.str.contains('facebook|Facebook|microsoft|Microsoft|google|Google|Netflix|netflix|Amazon|amazon|Snapchat|snapchat',case= True, regex = True).value_counts()"
   ]
  }
 ],
 "metadata": {
  "kernelspec": {
   "display_name": "Python 2",
   "language": "python",
   "name": "python2"
  },
  "language_info": {
   "codemirror_mode": {
    "name": "ipython",
    "version": 2
   },
   "file_extension": ".py",
   "mimetype": "text/x-python",
   "name": "python",
   "nbconvert_exporter": "python",
   "pygments_lexer": "ipython2",
   "version": "2.7.13"
  }
 },
 "nbformat": 4,
 "nbformat_minor": 2
}
